{
 "cells": [
  {
   "cell_type": "markdown",
   "id": "64385aec-318a-4195-82e7-7d37eca29222",
   "metadata": {
    "tags": []
   },
   "source": [
    "## Preliminaries\n",
    "In this notebook we are going to study 2 robots and a conveyer working together. A schematic of these setup is demonstrated in the following picture:\n",
    "\n",
    "$\\newline\n",
    "\\newline\n",
    "\\newline$\n",
    "\n",
    "![Drawing1.png](../demo/Drawing1.png)\n",
    "\n",
    "\n"
   ]
  },
  {
   "cell_type": "code",
   "execution_count": null,
   "id": "1424b508-ccf5-49b6-9162-fa468aa70494",
   "metadata": {},
   "outputs": [],
   "source": []
  }
 ],
 "metadata": {
  "kernelspec": {
   "display_name": "Python 3",
   "language": "python",
   "name": "python3"
  },
  "language_info": {
   "codemirror_mode": {
    "name": "ipython",
    "version": 3
   },
   "file_extension": ".py",
   "mimetype": "text/x-python",
   "name": "python",
   "nbconvert_exporter": "python",
   "pygments_lexer": "ipython3",
   "version": "3.7.8"
  }
 },
 "nbformat": 4,
 "nbformat_minor": 5
}

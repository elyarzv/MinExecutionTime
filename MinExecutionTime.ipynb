{
 "cells": [
  {
   "cell_type": "markdown",
   "id": "4bb2639f-049f-4d26-8657-3902b02386fe",
   "metadata": {
    "tags": []
   },
   "source": [
    "# <center>**Minimizing Execution Time in Colaborative Robots**</center>\n",
    "### <center>Elyar Zavvari, Mehran Mehrandezh</center>"
   ]
  },
  {
   "cell_type": "markdown",
   "id": "f214f224-2791-4c88-b2f3-c188d910757b",
   "metadata": {
    "tags": []
   },
   "source": [
    "## **Abstract**.\n",
    "In this project we will study a setup with two robotic arms and a conveyor belt working together to transfer some parts from a bin to another. We want to minimize the completion time of this process."
   ]
  },
  {
   "cell_type": "markdown",
   "id": "8ce6a112-7653-4eb5-9416-fd4527309d69",
   "metadata": {
    "tags": []
   },
   "source": [
    "## **Introduction**.\n",
    "Robotic technology has transformed the manufacturing industry ever since the first industrial robot was put in use at the beginning of the 60s. Industrial robots, due to their great speed, precision, and cost‐effectiveness in repetitive tasks, now tend to be used in place of human workers in automated manufacturing systems. In particular, they perform the pick‐and‐place operation, a non‐value‐added activity that at the same time cannot be eliminated. Hence, the minimum time is an important consideration for economic reasons in the trajectory planning system of the manipulator. The trajectory should also be smooth to handle parts precisely in applications such as semiconductor manufacturing, processing and handling of chemicals and medicines, and fluid and aerosol deposition. In a production line time is an important factor that directly impacts the production rate. As a result, minimizing the execution time in every production line is an inevitable goal. Engineers to increase the efficiency of the production replaced human workers with robots, used conveyor belts, and so on. Every robot does a job in a production line but since every robot completes other robots' jobs, they are not independent. Finding a minimum execution time can not be achieved by studying robots separately. The efficiency of a robot affects others and they work dependently. \n",
    "\n",
    "Almost all industrial robots work autonomously, meaning that they will not be able to act without defining some preliminary actions such as calibration and trajectory planning in order to achieve the tasks that are defined. Path planning and trajectory planning problems constitute the two main parts of the general motion planning problem. The interest for such topics is increasing, because operations at high speed are required to robots in the modern automatic systems; hence, smooth motions should be planned (where smooth means that such motions must avoid excessive values of accelerations of the actuators, as well as vibrations of the mechanical structure). Many algorithms have been proposed, both for path planning and for trajectory planning, in the scientific literature of the robotic domain.\n",
    "\n",
    "### **Path Planning**\n",
    "Path planning is a merely geometric matter, because it is defined as the generation of a geometric path, with no mention of any specified time law. On the other hand, trajectory planning consists in assigning a time law to the geometric path. In most cases, path planning precedes trajectory planning; however, these two phases are not necessarily distinct; for instance, if point-to-point trajectories are considered (i.e.  only the initial and final positions are specified), the two problems may be solved at the same time. The definition of the path planning problem is very straightforward: “find a collision-free motion between an initial (start) and a final configuration (goal) within a specified environment”. The simplest situation is when the path is to be planned in a static and known environment; however, more generally, the path planning problem can be formulated for any robotic system subject to kinematic constraints, in a dynamic and unknown environment.\n",
    "\n",
    "Some basic definitions are needed to introduce the path planning problem, namely: the configuration space $(C-space)$, the space of free configurations $(C-free)$ and the obstacles’ representation in the C-space $(C-obs)$. The configuration space is the space of all possible robot configurations, where a configuration q is the specification of position and orientation of the robot $A$ with respect to a fixed reference frame $F_{W}$ . Referring to <span style=\"color: blue;\">Fig. 1</span>, the C-space of the robot $A$ is $R^{3}$ , since the configuration of $A$ is specified by the origin of $F_{A}$ with respect to $F_{W}$ , and by its orientation.\n",
    "\n",
    "<img src=\"asset/figure1.jpg\" width=\"400\">\n",
    "\n",
    "**Fig. 1** *Mobile robot in a 2-dimensional space with obstacles*\n",
    "\n",
    "\n",
    "\n",
    "For an articulated robot (<span style=\"color: blue;\">Fig. 2</span>), the C-space is given by its joint space (in this case, $/R_{2}$ ). The $C-obs$ is given by the image of the obstacles in the C-space, and the C-free is defined as {$C-space - C-obs$}.\n",
    "\n",
    "\n",
    "\n",
    "<img src=\"asset/figure2.png\" width=\"400\">\n",
    "\n",
    "**Fig. 2** *C-space, C-free and C-obs for an articulated robot with two joints*\n",
    "\n",
    "\n",
    "Path planning algorithms are usually divided in three categories, according to the methodologies used to generate the geometric path, namely:\n",
    "* roadmap techniques\n",
    "* cell decomposition algorithms\n",
    "* artificial potential methods.\n",
    "\n",
    "#### **Roadmap Techniques**\n",
    "The roadmap techniques are based upon the reduction of the N-dimensional configuration space to a set of one-dimensional paths to search, possibly on a graph. In other words, this approach maps the free space connectivity into a system of one-dimensional curves (the roadmap) in the C-free space or in its closure. The roadmap R thus obtained contains a set of paths: hence, the path planning consists in linking the initial and final configurations to R. In this way a feasible path between the two configurations is found.\n",
    "\n",
    "*Visibility graph*, which represents a milestone in the literature related to path planning, was introduced by Lozano-Pérez. <span style=\"color: blue;\">Fig. 3</span> is a sample *visibility graph* which is the graph whose nodes are the vertices of all the obstacles in the configuration space. Searching the graph would lead to get the shortest Euclidean path in the C-space. The nodes of the graphs indicate point locations, while edges represents visible connections between the nodes. Grey areas indicate obstacles to be avoided.\n",
    "\n",
    "\n",
    "<img src=\"asset/figure3.png\" width=\"400\">\n",
    "\n",
    "\n",
    "**Fig. 3** *Visibility graph*\n",
    "\n",
    "*Voronoi diagrams* based diagrams are other kinds of roadmap algorithms, which are defined as a way to divide the space into regions having the following characteristic:\n",
    "* given a set of points $ {p_{1} , ..., p_{n}} $, each point belonging to the $i$th region is closer to $p_{i}$ than to any other $p_{j}=p_{i}$.\n",
    "\n",
    "This approach is dual to that based on the visibility graph, because the Voronoi diagrams enable one to obtain a path lying at the maximum distance from the obstacles, whereas the visibility graph generates a path that passes as close as possible to the obstacle vertices. <span style=\"color: blue;\">Fig. 4</span> shows some path generated by using Voronoi diagrams. The three squares in the diagram represents obstacles, while the blue lines are the set of points equidistant from at least two obstacles. Therefore the paths defined with this technique are designed to be as far away as possible from nearby obstacles.\n",
    "\n",
    "<img src=\"asset/figure4.png\" width=\"400\">\n",
    "\n",
    "**Fig. 4** *Paths resulting from Voronoi diagrams*\n",
    "\n",
    "#### **Cell Decomposition Methods**\n",
    "In cell decomposition method the free space of robot is subdevided into some sections that a path between any two configurations lying in the same section is straightforward to generate. These sections are called cells in this approach. In this method a graph named *connectivity graph* is defined to demonstrate the adjancency relation between cells. Every cell in robot's free space maps to a node in graph and every two nodes, that are from neighbour cells, are connected to each other. searching problem, and can therefore be solved using graph-searching techniques.\n",
    "\n",
    "<span style=\"color: blue;\">Fig. 5</span> illustrates the procedure described above, which is named exact cell decomposition technique, because the union of the cell represents exactly the free space. In some cases, an exact computation of the free space is not possible or convenient. Approximate cell decomposition methods must therefore be employed. <span style=\"color: blue;\">Fig. 6</span> shows how these techniques work:\n",
    "* the whole C-space (assumed 2-dimensional) is divided into four cells;\n",
    "* the algorithm checks if each cell is completely empty, completely full or mixed (such words obviously refer to the occupancy by the obstacles);\n",
    "* each mixed cell is in turn divided into four subcells, and the algorithm is recursively applied to check the status of every subcell and recursively divide each mixed subcell into four sub-subcells.\n",
    "\n",
    "The graph that may be naturally associated to the approximate cell decomposition is a tree, named quadtree for 2-dimensional spaces (<span style=\"color: blue;\">Fig. 7</span>), octree for 3-dimensional spaces (<span style=\"color: blue;\">Fig. 8</span>), 16-tree for 4-dimensional spaces, and so forth.\n",
    "\n",
    "<img src=\"asset/figure5.png\" width=\"550\">\n",
    "\n",
    "**Fig. 5** *Exact cell decomposition: a subdivision of space into numbered polygons, b connectivity graph, c regions to be crossed, d path*\n",
    "\n",
    "<img src=\"asset/figure6.png\" width=\"550\">\n",
    "\n",
    "**Fig. 6** *Approximate cell decomposition*\n",
    "\n",
    "\n",
    "<img src=\"asset/figure7.png\" width=\"400\">\n",
    "\n",
    "**Fig. 7** *Quadtree*\n",
    "\n",
    "<img src=\"asset/figure8.png\" width=\"400\">\n",
    "\n",
    "**Fig. 8** *Octree*\n",
    "\n",
    "\n",
    "### **Trajectory Planning**\n",
    "Solving the trajectory planning problem means generating the reference inputs for the control system of the robot, so as to ensure that the desired motion is performed. Usually, the algorithm employed for trajectory planning takes as inputs the path generated by the path planner, as well as the kinematic and dynamic constraints of the robot. The output of the trajectory planning module is given by the trajectory of the joints, or of the end-effector, in form of a sequence of values of position, velocity and acceleration.\n",
    "\n",
    "In order to classify the different trajectory planning methodologies into categories, it is useful to consider that a trajectory is usually planned after some optimality criterion has been set. The most significant optimality criteria that can be found in the literature are:\n",
    "* minimum execution time;\n",
    "* minimum energy (or actuator effort);\n",
    "* minimum jerk."
   ]
  },
  {
   "cell_type": "markdown",
   "id": "ba520c4a-e111-4b57-ac8c-9a3c981a204d",
   "metadata": {},
   "source": [
    "## **Problem Formulation**.\n",
    "Consider a robotic pick-and-place system composed of a robot arm and a moving conveyor belt. The base of the robot arm is at $(x_A,0)$. The end effector of robot can reach area $W$ with the lower left coordinate being $(x_L,y_B)=(0,0)$ and upper right coordinate being $(x_R,y_T)$ on the conveyor (see <span style=\"color: blue;\">Fig. 9</span>). The objective is to pick the objects located withing area $W$ and place them in $(0,0)$.\n",
    "\n",
    "<img src=\"asset/figure9.png\" width=\"500\">\n",
    "\n",
    "**Fig. 9** *Illustration of a conveyor workspace where the base of the robot arm is located at $(X_A,0)$. The end-effector picks up objects within a region $W$ with a lower left corner of $(x_L,0)$ and an upper right corner of $(x_R,y_T)$, and drops off objects at the drop-off location $(0,0)$.*\n",
    "\n",
    "It is assumed that robot knows the location of all objects within $W$ and conveyor moves with the unit speed $v_b=1$ from right to left. Moreover, we assume that once the robot end effector reaches the object center, it picks the object without any delays. \n",
    "\n",
    "The overall goal is to minimize the completion time of pick and place for an specific number of objects. There are some *Greedy Algorithms* for solving this problem. A greedy algorithm is any algorithm that follows the problem-solving heuristic of making the locally optimal choice at each stage.[1] In many problems, a greedy strategy does not produce an optimal solution, but a greedy heuristic can yield locally optimal solutions that approximate a globally optimal solution in a reasonable amount of time. Most commonly used Greedy approaches are FIFO and SPT. To study these approaches lets consider a simple example with 2 objects $o1$ and $o2$ located at $(x_1,y_1)$ and $(x_2,y_2)$ which is shown in <span style=\"color: blue;\">Fig. 10</span>.\n",
    "\n",
    "<img src=\"asset/figure10.png\" width=\"500\">\n",
    "\n",
    "**Fig. 10** *The relevant distances when object o1, initially located at (x1,y1), is picked up first by the robot*\n",
    "\n",
    "Suppose that the drop off location and robot base are the same. There are two ways to PnP these objects, first picking the $o1$ or first picking the object $o2$. Lets assume that object $o1$ is picked first. The earliest point $A$ to pick up it can be calculated. During picking up $o1$ the object and end effector have traveled distance $d_1$ and $v_ed_1$ respectively ($v_e$ is the speed of end effector). Now the unknown parameter $d_1$ can be found by solving the equation $(x_1-d_1)^2+y_1^2={v_e}^2{d_1}^2$. By the same solution the point $B$ where end effector picks the object $o2$ can be calculated. By picking the second object, the object $o2$ has traveled the distance $2d_1+d_2$ that $d_2$ can be obtained by solving the equation $(2d_1+d_2-x_2)^2+y_2^2={v_e}^2{d_2}^2$. The time requitred to pick up these 2 objects, with picking the $o1$ first, is $2(d_1+d_2)$ where we donate this time by $t_{12}(x_1,x_2,y_1,y_2,v_e)$. Similarly the time when the second object is piched at first is donated by $t_{21}(x_1,x_2,y_1,y_2,v_e)$.\n",
    "\n",
    "**Proposition 1.** *For two objects $o_1$ and $o_2$ initially located at $(x, y_1)$ and $(x, y_2)$, the optimal pick-and-place sequence of the objects depends on the horizontal offset $x$.*\n",
    "\n",
    "Let's find the completion time for two above mentioned senarios. We define $\\delta t$ as\n",
    "$$\\delta t(x_1,x_2,y_1,y_2,v_e) = t_{12}(x_1,x_2,y_1,y_2,v_e)- t_{21}(x_1,x_2,y_1,y_2,v_e)$$\n",
    "To study the accuracy of the **Proposition 1** we let $y_1=0.4$, $y_2=0.7$ and $v_e=2$. Defining $f(x)=\\delta t(x,x,0.4,0.7,2)$ and solving $f(x)=0$ yields solution $x \\approx 0.6$. The corresponding codes are as follows:\n"
   ]
  },
  {
   "cell_type": "code",
   "execution_count": 165,
   "id": "8a74aca9",
   "metadata": {},
   "outputs": [
    {
     "data": {
      "image/png": "[encoded data removed]",
      "text/plain": [
       "<Figure size 432x288 with 1 Axes>"
      ]
     },
     "metadata": {
      "needs_background": "light"
     },
     "output_type": "display_data"
    }
   ],
   "source": [
    "import numpy as np\n",
    "from sympy import symbols, Eq, solve\n",
    "import matplotlib.pyplot as plt\n",
    "\n",
    "x, d1, d2 = symbols('x d1 d2')\n",
    "eq1 = Eq((x-d1)**2+(0.4**2)-(2**2)*(d1**2),0)\n",
    "sol11 = solve(eq1,d1)\n",
    "d11 = sol11[1]\n",
    "eq2 = Eq((2*d11+d2-x)**2+(0.7**2)-(2**2)*(d2**2),0)\n",
    "sol21 = solve(eq2,d2)\n",
    "d21 = sol21[1]\n",
    "t1 = 2*(d11+d21)\n",
    "\n",
    "eq1 = Eq((x-d1)**2+(0.7**2)-(2**2)*(d1**2),0)\n",
    "sol12 = solve(eq1,d1)\n",
    "d12 = sol12[1]\n",
    "eq2 = Eq((2*d12+d2-x)**2+(0.4**2)-(2**2)*(d2**2),0)\n",
    "sol22 = solve(eq2,d2)\n",
    "d22 = sol22[1]\n",
    "t2 = 2*(d12+d22)\n",
    "delta = t1-t2\n",
    "\n",
    "xx = []\n",
    "yy = []\n",
    "for i in range(50 , 150 , 1):\n",
    "    d = delta.subs(x, i/100)\n",
    "    yy.append(d)\n",
    "    xx.append(i/100)\n",
    "root = [15] \n",
    "plt.plot(xx,yy,markevery=root,marker=\"o\")\n",
    "plt.grid()\n",
    "plt.xlabel('$x$')\n",
    "plt.ylabel('$\\delta (x)$')\n",
    "plt.show()   "
   ]
  },
  {
   "cell_type": "code",
   "execution_count": null,
   "id": "190f2c86-5e76-4ac0-a51b-b21cf5416f5a",
   "metadata": {},
   "outputs": [],
   "source": []
  },
  {
   "cell_type": "code",
   "execution_count": null,
   "id": "bfd24a87-6506-4cb7-bf13-0dddad1b34e2",
   "metadata": {},
   "outputs": [],
   "source": []
  }
 ],
 "metadata": {
  "kernelspec": {
   "display_name": "my_env",
   "language": "python",
   "name": "my_env"
  },
  "language_info": {
   "codemirror_mode": {
    "name": "ipython",
    "version": 3
   },
   "file_extension": ".py",
   "mimetype": "text/x-python",
   "name": "python",
   "nbconvert_exporter": "python",
   "pygments_lexer": "ipython3",
   "version": "3.9.6"
  }
 },
 "nbformat": 4,
 "nbformat_minor": 5
}

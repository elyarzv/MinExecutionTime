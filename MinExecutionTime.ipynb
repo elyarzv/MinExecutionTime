{
 "cells": [
  {
   "cell_type": "markdown",
   "id": "4bb2639f-049f-4d26-8657-3902b02386fe",
   "metadata": {
    "tags": []
   },
   "source": [
    "# <center>**Minimizing Execution Time in Colaborative Robots**</center>\n",
    "### <center>Elyar Zavvari, Mehran Mehrandezh</center>"
   ]
  },
  {
   "cell_type": "markdown",
   "id": "f214f224-2791-4c88-b2f3-c188d910757b",
   "metadata": {
    "tags": []
   },
   "source": [
    "## **Abstract**.\n",
    "In this project we will study a setup with two robotic arms and a conveyor belt working together to transfer some parts from a bin to another. We want to minimize the completion time of this process."
   ]
  },
  {
   "cell_type": "markdown",
   "id": "8ce6a112-7653-4eb5-9416-fd4527309d69",
   "metadata": {
    "tags": []
   },
   "source": [
    "## **Introduction**.\n",
    "Robotic technology has transformed the manufacturing industry ever since the first industrial robot was put in use at the beginning of the 60s. Industrial robots, due to their great speed, precision, and cost‐effectiveness in repetitive tasks, now tend to be used in place of human workers in automated manufacturing systems. In particular, they perform the pick‐and‐place operation, a non‐value‐added activity that at the same time cannot be eliminated. Hence, the minimum time is an important consideration for economic reasons in the trajectory planning system of the manipulator. The trajectory should also be smooth to handle parts precisely in applications such as semiconductor manufacturing, processing and handling of chemicals and medicines, and fluid and aerosol deposition. In a production line time is an important factor that directly impacts the production rate. As a result, minimizing the execution time in every production line is an inevitable goal. Engineers to increase the efficiency of the production replaced human workers with robots, used conveyor belts, and so on. Every robot does a job in a production line but since every robot completes other robots' jobs, they are not independent. Finding a minimum execution time can not be achieved by studying robots separately. The efficiency of a robot affects others and they work dependently. \n",
    "\n",
    "Almost all industrial robots work autonomously, meaning that they will not be able to act without defining some preliminary actions such as calibration and trajectory planning in order to achieve the tasks that are defined. Path planning and trajectory planning problems constitute the two main parts of the general motion planning problem. The interest for such topics is increasing, because operations at high speed are required to robots in the modern automatic systems; hence, smooth motions should be planned (where smooth means that such motions must avoid excessive values of accelerations of the actuators, as well as vibrations of the mechanical structure). Many algorithms have been proposed, both for path planning and for trajectory planning, in the scientific literature of the robotic domain.\n",
    "\n",
    "### **Path Planning**\n",
    "Path planning is a merely geometric matter, because it is defined as the generation of a geometric path, with no mention of any specified time law. On the other hand, trajectory planning consists in assigning a time law to the geometric path. In most cases, path planning precedes trajectory planning; however, these two phases are not necessarily distinct; for instance, if point-to-point trajectories are considered (i.e.  only the initial and final positions are specified), the two problems may be solved at the same time. The definition of the path planning problem is very straightforward: “find a collision-free motion between an initial (start) and a final configuration (goal) within a specified environment”. The simplest situation is when the path is to be planned in a static and known environment; however, more generally, the path planning problem can be formulated for any robotic system subject to kinematic constraints, in a dynamic and unknown environment.\n",
    "\n",
    "Some basic definitions are needed to introduce the path planning problem, namely: the configuration space $(C-space)$, the space of free configurations $(C-free)$ and the obstacles’ representation in the C-space $(C-obs)$. The configuration space is the space of all possible robot configurations, where a configuration q is the specification of position and orientation of the robot $A$ with respect to a fixed reference frame $F_{W}$ . Referring to <span style=\"color: blue;\">Fig. 1</span>, the C-space of the robot $A$ is $R^{3}$ , since the configuration of $A$ is specified by the origin of $F_{A}$ with respect to $F_{W}$ , and by its orientation.\n",
    "\n",
    "![Title](../RoboticProject/figure1.PNG)\n",
    "\n",
    "**Fig. 1** *Mobile robot in a 2-dimensional space with obstacles*\n",
    "\n",
    "\n",
    "For an articulated robot (<span style=\"color: blue;\">Fig. 2</span>), the C-space is given by its joint space (in this case, $/R_{2}$ ). The $C-obs$ is given by the image of the obstacles in the C-space, and the C-free is defined as {$C-space - C-obs$}.\n",
    "\n",
    "\n",
    "![Title](../RoboticProject/figure2.PNG)\n",
    "\n",
    "**Fig. 2** *C-space, C-free and C-obs for an articulated robot with two joints*\n",
    "\n",
    "\n",
    "Path planning algorithms are usually divided in three categories, according to the methodologies used to generate the geometric path, namely:\n",
    "* roadmap techniques\n",
    "* cell decomposition algorithms\n",
    "* artificial potential methods.\n",
    "\n",
    "#### **Roadmap Techniques**\n",
    "The roadmap techniques are based upon the reduction of the N-dimensional configuration space to a set of one-dimensional paths to search, possibly on a graph. In other words, this approach maps the free space connectivity into a system of one-dimensional curves (the roadmap) in the C-free space or in its closure. The roadmap R thus obtained contains a set of paths: hence, the path planning consists in linking the initial and final configurations to R. In this way a feasible path between the two configurations is found.\n",
    "\n",
    "*Visibility graph*, which represents a milestone in the literature related to path planning, was introduced by Lozano-Pérez. <span style=\"color: blue;\">Fig. 3</span> is a sample *visibility graph* which is the graph whose nodes are the vertices of all the obstacles in the configuration space. Searching the graph would lead to get the shortest Euclidean path in the C-space. The nodes of the graphs indicate point locations, while edges represents visible connections between the nodes. Grey areas indicate obstacles to be avoided.\n",
    "\n",
    "\n",
    "![Title](../RoboticProject/figure3.PNG)\n",
    "\n",
    "\n",
    "**Fig. 3** *Visibility graph*\n",
    "\n",
    "*Voronoi diagrams* based diagrams are other kinds of roadmap algorithms, which are defined as a way to divide the space into regions having the following characteristic:\n",
    "* given a set of points $ {p_{1} , ..., p_{n}} $, each point belonging to the $i$th region is closer to $p_{i}$ than to any other $p_{j}=p_{i}$.\n",
    "\n",
    "This approach is dual to that based on the visibility graph, because the Voronoi diagrams enable one to obtain a path lying at the maximum distance from the obstacles, whereas the visibility graph generates a path that passes as close as possible to the obstacle vertices. <span style=\"color: blue;\">Fig. 4</span> shows some path generated by using Voronoi diagrams. The three squares in the diagram represents obstacles, while the blue lines are the set of points equidistant from at least two obstacles. Therefore the paths defined with this technique are designed to be as far away as possible from nearby obstacles.\n",
    "\n",
    "![Title](../RoboticProject/figure4.PNG)\n",
    "\n",
    "**Fig. 4** *Paths resulting from Voronoi diagrams*\n",
    "\n",
    "#### **Cell Decomposition Methods**\n",
    "In cell decomposition method the free space of robot is subdevided into some sections that a path between any two configurations lying in the same section is straightforward to generate. These sections are called cells in this approach. In this method a graph named *connectivity graph* is defined to demonstrate the adjancency relation between cells. Every cell in robot's free space maps to a node in graph and every two nodes, that are from neighbour cells, are connected to each other. searching problem, and can therefore be solved using graph-searching techniques.\n",
    "\n",
    "<span style=\"color: blue;\">Fig. 5</span> illustrates the procedure described above, which is named exact cell decomposition technique, because the union of the cell represents exactly the free space. In some cases, an exact computation of the free space is not possible or convenient. Approximate cell decomposition methods must therefore be employed. <span style=\"color: blue;\">Fig. 6</span> shows how these techniques work:\n",
    "* the whole C-space (assumed 2-dimensional) is divided into four cells;\n",
    "* the algorithm checks if each cell is completely empty, completely full or mixed (such words obviously refer to the occupancy by the obstacles);\n",
    "* each mixed cell is in turn divided into four subcells, and the algorithm is recursively applied to check the status of every subcell and recursively divide each mixed subcell into four sub-subcells.\n",
    "\n",
    "The graph that may be naturally associated to the approximate cell decomposition is a tree, named quadtree for 2-dimensional spaces (<span style=\"color: blue;\">Fig. 7</span>), octree for 3-dimensional spaces (<span style=\"color: blue;\">Fig. 8</span>), 16-tree for 4-dimensional spaces, and so forth.\n",
    "![Title](../RoboticProject/figure5.PNG)\n",
    "\n",
    "**Fig. 5** *Exact cell decomposition: a subdivision of space into numbered polygons, b connectivity graph, c regions to be crossed, d path*\n",
    "\n",
    "![Title](../RoboticProject/figure6.PNG)\n",
    "\n",
    "**Fig. 6** *Approximate cell decomposition*\n",
    "\n",
    "\n",
    "![Title](../RoboticProject/figure7.PNG)\n",
    "\n",
    "**Fig. 7** *Quadtree*\n",
    "\n",
    "![Title](../RoboticProject/figure8.PNG)\n",
    "\n",
    "**Fig. 8** *Octree*\n",
    "\n",
    "\n",
    "### **Trajectory Planning**\n",
    "Solving the trajectory planning problem means generating the reference inputs for the control system of the robot, so as to ensure that the desired motion is performed. Usually, the algorithm employed for trajectory planning takes as inputs the path generated by the path planner, as well as the kinematic and dynamic constraints of the robot. The output of the trajectory planning module is given by the trajectory of the joints, or of the end-effector, in form of a sequence of values of position, velocity and acceleration.\n",
    "\n",
    "In order to classify the different trajectory planning methodologies into categories, it is useful to consider that a trajectory is usually planned after some optimality criterion has been set. The most significant optimality criteria that can be found in the literature are:\n",
    "* minimum execution time;\n",
    "* minimum energy (or actuator effort);\n",
    "* minimum jerk."
   ]
  },
  {
   "cell_type": "markdown",
   "id": "9bae865d-3040-4cf7-bbca-7d5590e90a14",
   "metadata": {},
   "source": [
    "## **Problem Formulation**.\n",
    "We are going to study a pick and place problem with two 3 DOF robotic arms and a conveyor. Conveyor belt dimensions and the robots distances from the conveyor belt are shown in <span style=\"color: blue;\">Fig. 9</span>."
   ]
  },
  {
   "cell_type": "code",
   "execution_count": 3,
   "id": "8a74aca9",
   "metadata": {},
   "outputs": [],
   "source": [
    "import numpy as np"
   ]
  }
 ],
 "metadata": {
  "kernelspec": {
   "display_name": "my_env",
   "language": "python",
   "name": "my_env"
  },
  "language_info": {
   "codemirror_mode": {
    "name": "ipython",
    "version": 3
   },
   "file_extension": ".py",
   "mimetype": "text/x-python",
   "name": "python",
   "nbconvert_exporter": "python",
   "pygments_lexer": "ipython3",
   "version": "3.9.6"
  }
 },
 "nbformat": 4,
 "nbformat_minor": 5
}
